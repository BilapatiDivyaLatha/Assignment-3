{
 "cells": [
  {
   "cell_type": "markdown",
   "metadata": {},
   "source": [
    "# Assignment 3"
   ]
  },
  {
   "cell_type": "code",
   "execution_count": 4,
   "metadata": {},
   "outputs": [
    {
     "name": "stdout",
     "output_type": "stream",
     "text": [
      "The exception for the above code is: division by zero\n"
     ]
    }
   ],
   "source": [
    "# Task1\n",
    "\"\"\"1. Write a function to compute 5/0 and use try/except to catch the \n",
    "exceptions.\"\"\"\n",
    "def func():\n",
    "    return 5/0\n",
    "try:\n",
    "    func()\n",
    "except Exception as e:\n",
    "    print(\"The exception for the above code is:\", e)"
   ]
  },
  {
   "cell_type": "code",
   "execution_count": 5,
   "metadata": {},
   "outputs": [
    {
     "name": "stdout",
     "output_type": "stream",
     "text": [
      "Americans  play Baseball\n",
      "Americans  play Cricket\n",
      "Americans  watch Baseball\n",
      "Americans  watch Cricket\n",
      "Indians play Baseball\n",
      "Indians play Cricket\n",
      "Indians watch Baseball\n",
      "Indians watch Cricket\n"
     ]
    }
   ],
   "source": [
    "\"\"\"2. Implement a Python program to generate all sentences where \n",
    "subject is in [\"Americans\",\"Indians\"] and \n",
    "verb    is in [\"Play\", \"watch\"] and the \n",
    "object  is in [\"Baseball\",\"cricket\"].\n",
    "\n",
    "Hint: Subject,Verb and Object should be declared in the program as shown below.\n",
    "subjects=[\"Americans \",\"Indians\"]\n",
    "verbs=[\"play\",\"watch\"]\n",
    "objects=[\"Baseball\",\"Cricket\"]\n",
    "\n",
    "Output should come as below:\n",
    "Americans play Baseball.\n",
    "Americans play Cricket.\n",
    "Americans watch Baseball.\n",
    "Americans watch Cricket.\n",
    "Indians play Baseball.\n",
    "Indians play Cricket.\n",
    "Indians watch Baseball.\n",
    "Indians watch Cricket.\"\"\"\n",
    "\n",
    "a=[]\n",
    "subjects=[\"Americans \",\"Indians\"]\n",
    "verbs=[\"play\",\"watch\"]\n",
    "objects=[\"Baseball\",\"Cricket\"]\n",
    "#subjects\n",
    "for i in subjects:\n",
    "#verbs\n",
    "    for j in verbs:\n",
    "#objects\n",
    "        for k in objects:\n",
    "            a.append(i\" \"+ j + \" \" + k)        \n",
    "a \n",
    "for b in a:\n",
    "    print(b)"
   ]
  },
  {
   "cell_type": "code",
   "execution_count": null,
   "metadata": {},
   "outputs": [],
   "source": [
    "# Task2\n",
    "\"\"\"1. Write a function so that the columns of the output matrix are powers of \n",
    "the input vector.\n",
    "The order of the powers is determined by the increasing boolean argument.\n",
    "Specifically, when increasing is False, the i-th output column is the \n",
    "input vector raised element-wise to the power of N - i - 1.\n",
    "HINT: Such a matrix with a geometric progression in each row is named \n",
    "for Alexandre Theophile Vandermonde.\"\"\"\n",
    "\n",
    "\n",
    "\n"
   ]
  }
 ],
 "metadata": {
  "kernelspec": {
   "display_name": "Python 3",
   "language": "python",
   "name": "python3"
  },
  "language_info": {
   "codemirror_mode": {
    "name": "ipython",
    "version": 3
   },
   "file_extension": ".py",
   "mimetype": "text/x-python",
   "name": "python",
   "nbconvert_exporter": "python",
   "pygments_lexer": "ipython3",
   "version": "3.7.6"
  }
 },
 "nbformat": 4,
 "nbformat_minor": 4
}
